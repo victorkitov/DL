{
 "cells": [
  {
   "cell_type": "markdown",
   "id": "1586d4dc-ab4f-4bdc-8a18-8ff206ef5777",
   "metadata": {},
   "source": [
    "# Случайный и направленный поиск лучших гиперпараметров."
   ]
  },
  {
   "cell_type": "markdown",
   "id": "ba82120e-04d9-49fb-a448-14f75aa5efa2",
   "metadata": {},
   "source": [
    "Большинство моделей содержат гиперпараметры, требующие подбора для наилучшей точности, такие как тип ядра в SVM и степень регуляризации.\n",
    "\n",
    "Как вы думаете, почему нельзя подбирать гиперпараметры по обучающей выборке, на которой настраивались обычные параметры моделей?\n",
    "\n",
    "Случайный поиск лучше поиска по сетке за счет более широкого перебора по пространству **важных** гиперпараметров:"
   ]
  },
  {
   "cell_type": "markdown",
   "id": "4f3d804a-023b-475e-b8de-74a9d527aabb",
   "metadata": {},
   "source": [
    "<img src=\"grid and random search.png\" width=\"75%\">"
   ]
  },
  {
   "cell_type": "markdown",
   "id": "4c1ee8d7-2885-4938-a7a4-e55f217bd46e",
   "metadata": {},
   "source": [
    "# Загрузка датасета"
   ]
  },
  {
   "cell_type": "code",
   "execution_count": 1,
   "id": "2569896a-8a08-4589-b9e7-df0524b4e453",
   "metadata": {
    "tags": []
   },
   "outputs": [],
   "source": [
    "%matplotlib inline\n",
    "import numpy as np\n",
    "import matplotlib.pyplot as plt"
   ]
  },
  {
   "cell_type": "code",
   "execution_count": 2,
   "id": "c6a33322-dc31-4093-97f6-b780c3599e21",
   "metadata": {
    "tags": []
   },
   "outputs": [],
   "source": [
    "import sklearn\n",
    "from sklearn import datasets\n",
    "import pandas as pd"
   ]
  },
  {
   "cell_type": "code",
   "execution_count": 3,
   "id": "8a3a8db7-9be4-4be1-a158-767b58380ba0",
   "metadata": {
    "tags": []
   },
   "outputs": [],
   "source": [
    "data = datasets.fetch_openml(name='wdbc', version=1, parser='auto', data_home='datasets', \n",
    "                          as_frame=True)  "
   ]
  },
  {
   "cell_type": "code",
   "execution_count": 4,
   "id": "0a0de4f0-3fdc-49eb-9432-6f4c09637a74",
   "metadata": {
    "tags": []
   },
   "outputs": [
    {
     "data": {
      "text/plain": [
       "'**Author**: William H. Wolberg, W. Nick Street, Olvi L. Mangasarian    \\n**Source**: [UCI](https://archive.ics.uci.edu/ml/datasets/breast+cancer+wisconsin+(original)), [University of Wisconsin](http://pages.cs.wisc.edu/~olvi/uwmp/cancer.html) - 1995  \\n**Please cite**: [UCI](https://archive.ics.uci.edu/ml/citation_policy.html)     \\n\\n**Breast Cancer Wisconsin (Diagnostic) Data Set (WDBC).** Features are computed from a digitized image of a fine needle aspirate (FNA) of a breast mass. They describe characteristics of the cell nuclei present in the image. The target feature records the prognosis (benign (1) or malignant (2)). [Original data available here](ftp://ftp.cs.wisc.edu/math-prog/cpo-dataset/machine-learn/cancer/) \\n\\nCurrent dataset was adapted to ARFF format from the UCI version. Sample code ID\\'s were removed.  \\n\\n! Note that there is also a related Breast Cancer Wisconsin (Original) Data Set with a different set of features, better known as [breast-w](https://www.openml.org/d/15).\\n\\n\\n### Feature description  \\n\\nTen real-valued features are computed for each of 3 cell nuclei, yielding a total of 30 descriptive features. See the papers below for more details on how they were computed. The 10 features (in order) are:  \\n\\na) radius (mean of distances from center to points on the perimeter)  \\nb) texture (standard deviation of gray-scale values)  \\nc) perimeter  \\nd) area  \\ne) smoothness (local variation in radius lengths)  \\nf) compactness (perimeter^2 / area - 1.0)  \\ng) concavity (severity of concave portions of the contour)  \\nh) concave points (number of concave portions of the contour)  \\ni) symmetry  \\nj) fractal dimension (\"coastline approximation\" - 1)  \\n\\n### Relevant Papers   \\n\\nW.N. Street, W.H. Wolberg and O.L. Mangasarian. Nuclear feature extraction for breast tumor diagnosis. IS&T/SPIE 1993 International Symposium on Electronic Imaging: Science and Technology, volume 1905, pages 861-870, San Jose, CA, 1993. \\n\\nO.L. Mangasarian, W.N. Street and W.H. Wolberg. Breast cancer diagnosis and prognosis via linear programming. Operations Research, 43(4), pages 570-577, July-August 1995.\\n\\nDownloaded from openml.org.'"
      ]
     },
     "execution_count": 4,
     "metadata": {},
     "output_type": "execute_result"
    }
   ],
   "source": [
    "data.DESCR"
   ]
  },
  {
   "cell_type": "code",
   "execution_count": 5,
   "id": "f95fbd52-44fe-498c-be47-cccb32a21e87",
   "metadata": {
    "tags": []
   },
   "outputs": [],
   "source": [
    "X=data.data\n",
    "Y=data.target"
   ]
  },
  {
   "cell_type": "code",
   "execution_count": 6,
   "id": "8ad6a3c2-b2a0-46f9-9638-5f57547727f3",
   "metadata": {
    "tags": []
   },
   "outputs": [
    {
     "data": {
      "text/html": [
       "<div>\n",
       "<style scoped>\n",
       "    .dataframe tbody tr th:only-of-type {\n",
       "        vertical-align: middle;\n",
       "    }\n",
       "\n",
       "    .dataframe tbody tr th {\n",
       "        vertical-align: top;\n",
       "    }\n",
       "\n",
       "    .dataframe thead th {\n",
       "        text-align: right;\n",
       "    }\n",
       "</style>\n",
       "<table border=\"1\" class=\"dataframe\">\n",
       "  <thead>\n",
       "    <tr style=\"text-align: right;\">\n",
       "      <th></th>\n",
       "      <th>V1</th>\n",
       "      <th>V2</th>\n",
       "      <th>V3</th>\n",
       "      <th>V4</th>\n",
       "      <th>V5</th>\n",
       "      <th>V6</th>\n",
       "      <th>V7</th>\n",
       "      <th>V8</th>\n",
       "      <th>V9</th>\n",
       "      <th>V10</th>\n",
       "      <th>...</th>\n",
       "      <th>V21</th>\n",
       "      <th>V22</th>\n",
       "      <th>V23</th>\n",
       "      <th>V24</th>\n",
       "      <th>V25</th>\n",
       "      <th>V26</th>\n",
       "      <th>V27</th>\n",
       "      <th>V28</th>\n",
       "      <th>V29</th>\n",
       "      <th>V30</th>\n",
       "    </tr>\n",
       "  </thead>\n",
       "  <tbody>\n",
       "    <tr>\n",
       "      <th>0</th>\n",
       "      <td>17.99</td>\n",
       "      <td>10.38</td>\n",
       "      <td>122.80</td>\n",
       "      <td>1001.0</td>\n",
       "      <td>0.11840</td>\n",
       "      <td>0.27760</td>\n",
       "      <td>0.3001</td>\n",
       "      <td>0.14710</td>\n",
       "      <td>0.2419</td>\n",
       "      <td>0.07871</td>\n",
       "      <td>...</td>\n",
       "      <td>25.38</td>\n",
       "      <td>17.33</td>\n",
       "      <td>184.60</td>\n",
       "      <td>2019.0</td>\n",
       "      <td>0.1622</td>\n",
       "      <td>0.6656</td>\n",
       "      <td>0.7119</td>\n",
       "      <td>0.2654</td>\n",
       "      <td>0.4601</td>\n",
       "      <td>0.11890</td>\n",
       "    </tr>\n",
       "    <tr>\n",
       "      <th>1</th>\n",
       "      <td>20.57</td>\n",
       "      <td>17.77</td>\n",
       "      <td>132.90</td>\n",
       "      <td>1326.0</td>\n",
       "      <td>0.08474</td>\n",
       "      <td>0.07864</td>\n",
       "      <td>0.0869</td>\n",
       "      <td>0.07017</td>\n",
       "      <td>0.1812</td>\n",
       "      <td>0.05667</td>\n",
       "      <td>...</td>\n",
       "      <td>24.99</td>\n",
       "      <td>23.41</td>\n",
       "      <td>158.80</td>\n",
       "      <td>1956.0</td>\n",
       "      <td>0.1238</td>\n",
       "      <td>0.1866</td>\n",
       "      <td>0.2416</td>\n",
       "      <td>0.1860</td>\n",
       "      <td>0.2750</td>\n",
       "      <td>0.08902</td>\n",
       "    </tr>\n",
       "    <tr>\n",
       "      <th>2</th>\n",
       "      <td>19.69</td>\n",
       "      <td>21.25</td>\n",
       "      <td>130.00</td>\n",
       "      <td>1203.0</td>\n",
       "      <td>0.10960</td>\n",
       "      <td>0.15990</td>\n",
       "      <td>0.1974</td>\n",
       "      <td>0.12790</td>\n",
       "      <td>0.2069</td>\n",
       "      <td>0.05999</td>\n",
       "      <td>...</td>\n",
       "      <td>23.57</td>\n",
       "      <td>25.53</td>\n",
       "      <td>152.50</td>\n",
       "      <td>1709.0</td>\n",
       "      <td>0.1444</td>\n",
       "      <td>0.4245</td>\n",
       "      <td>0.4504</td>\n",
       "      <td>0.2430</td>\n",
       "      <td>0.3613</td>\n",
       "      <td>0.08758</td>\n",
       "    </tr>\n",
       "    <tr>\n",
       "      <th>3</th>\n",
       "      <td>11.42</td>\n",
       "      <td>20.38</td>\n",
       "      <td>77.58</td>\n",
       "      <td>386.1</td>\n",
       "      <td>0.14250</td>\n",
       "      <td>0.28390</td>\n",
       "      <td>0.2414</td>\n",
       "      <td>0.10520</td>\n",
       "      <td>0.2597</td>\n",
       "      <td>0.09744</td>\n",
       "      <td>...</td>\n",
       "      <td>14.91</td>\n",
       "      <td>26.50</td>\n",
       "      <td>98.87</td>\n",
       "      <td>567.7</td>\n",
       "      <td>0.2098</td>\n",
       "      <td>0.8663</td>\n",
       "      <td>0.6869</td>\n",
       "      <td>0.2575</td>\n",
       "      <td>0.6638</td>\n",
       "      <td>0.17300</td>\n",
       "    </tr>\n",
       "    <tr>\n",
       "      <th>4</th>\n",
       "      <td>20.29</td>\n",
       "      <td>14.34</td>\n",
       "      <td>135.10</td>\n",
       "      <td>1297.0</td>\n",
       "      <td>0.10030</td>\n",
       "      <td>0.13280</td>\n",
       "      <td>0.1980</td>\n",
       "      <td>0.10430</td>\n",
       "      <td>0.1809</td>\n",
       "      <td>0.05883</td>\n",
       "      <td>...</td>\n",
       "      <td>22.54</td>\n",
       "      <td>16.67</td>\n",
       "      <td>152.20</td>\n",
       "      <td>1575.0</td>\n",
       "      <td>0.1374</td>\n",
       "      <td>0.2050</td>\n",
       "      <td>0.4000</td>\n",
       "      <td>0.1625</td>\n",
       "      <td>0.2364</td>\n",
       "      <td>0.07678</td>\n",
       "    </tr>\n",
       "  </tbody>\n",
       "</table>\n",
       "<p>5 rows × 30 columns</p>\n",
       "</div>"
      ],
      "text/plain": [
       "      V1     V2      V3      V4       V5       V6      V7       V8      V9  \\\n",
       "0  17.99  10.38  122.80  1001.0  0.11840  0.27760  0.3001  0.14710  0.2419   \n",
       "1  20.57  17.77  132.90  1326.0  0.08474  0.07864  0.0869  0.07017  0.1812   \n",
       "2  19.69  21.25  130.00  1203.0  0.10960  0.15990  0.1974  0.12790  0.2069   \n",
       "3  11.42  20.38   77.58   386.1  0.14250  0.28390  0.2414  0.10520  0.2597   \n",
       "4  20.29  14.34  135.10  1297.0  0.10030  0.13280  0.1980  0.10430  0.1809   \n",
       "\n",
       "       V10  ...    V21    V22     V23     V24     V25     V26     V27     V28  \\\n",
       "0  0.07871  ...  25.38  17.33  184.60  2019.0  0.1622  0.6656  0.7119  0.2654   \n",
       "1  0.05667  ...  24.99  23.41  158.80  1956.0  0.1238  0.1866  0.2416  0.1860   \n",
       "2  0.05999  ...  23.57  25.53  152.50  1709.0  0.1444  0.4245  0.4504  0.2430   \n",
       "3  0.09744  ...  14.91  26.50   98.87   567.7  0.2098  0.8663  0.6869  0.2575   \n",
       "4  0.05883  ...  22.54  16.67  152.20  1575.0  0.1374  0.2050  0.4000  0.1625   \n",
       "\n",
       "      V29      V30  \n",
       "0  0.4601  0.11890  \n",
       "1  0.2750  0.08902  \n",
       "2  0.3613  0.08758  \n",
       "3  0.6638  0.17300  \n",
       "4  0.2364  0.07678  \n",
       "\n",
       "[5 rows x 30 columns]"
      ]
     },
     "execution_count": 6,
     "metadata": {},
     "output_type": "execute_result"
    }
   ],
   "source": [
    "X.head()"
   ]
  },
  {
   "cell_type": "code",
   "execution_count": 7,
   "id": "03c00d87-f741-4ebf-a4af-efc592178db1",
   "metadata": {
    "tags": []
   },
   "outputs": [
    {
     "data": {
      "text/plain": [
       "(569, 30)"
      ]
     },
     "execution_count": 7,
     "metadata": {},
     "output_type": "execute_result"
    }
   ],
   "source": [
    "len(X), len(X.columns)"
   ]
  },
  {
   "cell_type": "code",
   "execution_count": 8,
   "id": "8bc159c3-f613-46ba-ab9b-7ca037df77aa",
   "metadata": {
    "tags": []
   },
   "outputs": [
    {
     "data": {
      "text/plain": [
       "0    2\n",
       "1    2\n",
       "2    2\n",
       "3    2\n",
       "4    2\n",
       "Name: Class, dtype: category\n",
       "Categories (2, object): ['1', '2']"
      ]
     },
     "execution_count": 8,
     "metadata": {},
     "output_type": "execute_result"
    }
   ],
   "source": [
    "Y.head()"
   ]
  },
  {
   "cell_type": "code",
   "execution_count": 9,
   "id": "ad7dd45c-faac-4aca-b96b-db3974861f55",
   "metadata": {
    "tags": []
   },
   "outputs": [],
   "source": [
    "Y=Y.cat.rename_categories([0,1]).astype(int)"
   ]
  },
  {
   "cell_type": "code",
   "execution_count": 10,
   "id": "0f577f17-2f2f-43c0-8c80-3991848ae27c",
   "metadata": {
    "tags": []
   },
   "outputs": [
    {
     "data": {
      "text/plain": [
       "array([1, 0])"
      ]
     },
     "execution_count": 10,
     "metadata": {},
     "output_type": "execute_result"
    }
   ],
   "source": [
    "Y.unique()"
   ]
  },
  {
   "cell_type": "code",
   "execution_count": 11,
   "id": "052fcf93-ad44-417a-8b7a-a208a57c9955",
   "metadata": {
    "tags": []
   },
   "outputs": [],
   "source": [
    "Z=X.copy()\n",
    "Z['Y']=Y"
   ]
  },
  {
   "cell_type": "code",
   "execution_count": 12,
   "id": "8f5d573e-61fc-4a04-b6a6-9153c67775ec",
   "metadata": {
    "tags": []
   },
   "outputs": [],
   "source": [
    "np.random.seed(0)\n",
    "Z = Z.sample(frac=1).reset_index(drop=True)"
   ]
  },
  {
   "cell_type": "code",
   "execution_count": 13,
   "id": "b76b701a-d407-491a-8e75-9badac9d3538",
   "metadata": {
    "tags": []
   },
   "outputs": [
    {
     "data": {
      "text/plain": [
       "(569, 341, 228)"
      ]
     },
     "execution_count": 13,
     "metadata": {},
     "output_type": "execute_result"
    }
   ],
   "source": [
    "from sklearn.model_selection import train_test_split\n",
    "\n",
    "Z_train, Z_test, ind_train, ind_test = train_test_split(Z, np.arange(len(Z)), test_size=0.4, shuffle=True, random_state=0, stratify=Z['Y'])   # разделим в на обучение/тест в заданной пропорции\n",
    "\n",
    "len(Z), len(Z_train), len(Z_test)"
   ]
  },
  {
   "cell_type": "code",
   "execution_count": 14,
   "id": "cbe86de9-aa32-4d30-8ea9-8a6dde1e417d",
   "metadata": {
    "tags": []
   },
   "outputs": [],
   "source": [
    "def XY_split(Z):\n",
    "    '''Функция разбиения по признаки и отклики'''\n",
    "    Y = Z['Y']\n",
    "    X = Z.copy()\n",
    "    X = X.drop('Y',axis=1)\n",
    "    return X,Y\n",
    "\n",
    "X_train, Y_train = XY_split(Z_train)\n",
    "X_test, Y_test = XY_split(Z_test)\n",
    "X, Y = XY_split(Z)"
   ]
  },
  {
   "cell_type": "markdown",
   "id": "2c2dcf09-21bb-4f91-b11d-51e6066531e5",
   "metadata": {},
   "source": [
    "Будем классифицировать объекты методом SVM.\n",
    "\n",
    "Гиперпараметры:\n",
    "- `C`: выбор между точностью и простотой модели\n",
    "- `kernel in ['linear', 'poly', 'rbf']`: тип ядра\n",
    "- `degree`: степень полиномиального ядра\n",
    "- `rbf`=$\\frac{1}{2 \\sigma^2}$: контролирует разброс Гауссова ядра"
   ]
  },
  {
   "cell_type": "code",
   "execution_count": 15,
   "id": "39a7601c-5062-41c7-8bd1-a50a0a27ffbf",
   "metadata": {},
   "outputs": [],
   "source": [
    "from sklearn.svm import SVC"
   ]
  },
  {
   "cell_type": "code",
   "execution_count": 16,
   "id": "486db4d9-a5f0-49c2-acb2-ed1c7f3c9ecb",
   "metadata": {},
   "outputs": [],
   "source": [
    "N_TRIALS = 40  # число испытаний (эффективнее, когда делится на #ядер процессора)"
   ]
  },
  {
   "cell_type": "markdown",
   "id": "3c77899a-e113-40c8-93f1-08a274571d90",
   "metadata": {},
   "source": [
    "# Случайный поиск в `sklearn`"
   ]
  },
  {
   "cell_type": "code",
   "execution_count": 17,
   "id": "a8597bfb-e7a1-4a90-90e5-6168648fc084",
   "metadata": {
    "tags": []
   },
   "outputs": [],
   "source": [
    "from sklearn.model_selection import RandomizedSearchCV\n",
    "\n",
    "from scipy.stats import uniform, randint, loguniform\n",
    "\n",
    "distributions = dict(C=loguniform(1e-10, 1e4),\n",
    "                     kernel=['linear', 'poly', 'rbf'],\n",
    "                     degree=randint(0, 5),\n",
    "                     gamma=uniform(0, 2))\n",
    "\n",
    "model = SVC()\n",
    "clf = RandomizedSearchCV(model, distributions, n_iter=N_TRIALS, cv=[[ind_train, ind_test]], n_jobs=-1, verbose=10, random_state=0)"
   ]
  },
  {
   "cell_type": "code",
   "execution_count": 18,
   "id": "7d20c3d5-4d29-4cad-93cd-f182639453d3",
   "metadata": {},
   "outputs": [
    {
     "name": "stdout",
     "output_type": "stream",
     "text": [
      "Fitting 1 folds for each of 40 candidates, totalling 40 fits\n",
      "CPU times: user 1.12 s, sys: 84.7 ms, total: 1.21 s\n",
      "Wall time: 42.7 s\n"
     ]
    },
    {
     "data": {
      "text/plain": [
       "(0.9473684210526315,\n",
       " {'C': 45.36050048212422,\n",
       "  'degree': 0,\n",
       "  'gamma': 1.957236684465528,\n",
       "  'kernel': 'linear'})"
      ]
     },
     "execution_count": 18,
     "metadata": {},
     "output_type": "execute_result"
    }
   ],
   "source": [
    "%time  search = clf.fit(X.to_numpy(), Y.to_numpy())\n",
    "search.best_score_, search.best_params_"
   ]
  },
  {
   "cell_type": "markdown",
   "id": "7cda929a-d704-433a-9eeb-9386b1edb031",
   "metadata": {},
   "source": [
    "Проверим инициализацию лучшими параметрами:"
   ]
  },
  {
   "cell_type": "code",
   "execution_count": 19,
   "id": "966021be-64bf-45f7-b2e8-6cf5c7427b74",
   "metadata": {
    "tags": []
   },
   "outputs": [
    {
     "data": {
      "text/html": [
       "<style>#sk-container-id-1 {color: black;background-color: white;}#sk-container-id-1 pre{padding: 0;}#sk-container-id-1 div.sk-toggleable {background-color: white;}#sk-container-id-1 label.sk-toggleable__label {cursor: pointer;display: block;width: 100%;margin-bottom: 0;padding: 0.3em;box-sizing: border-box;text-align: center;}#sk-container-id-1 label.sk-toggleable__label-arrow:before {content: \"▸\";float: left;margin-right: 0.25em;color: #696969;}#sk-container-id-1 label.sk-toggleable__label-arrow:hover:before {color: black;}#sk-container-id-1 div.sk-estimator:hover label.sk-toggleable__label-arrow:before {color: black;}#sk-container-id-1 div.sk-toggleable__content {max-height: 0;max-width: 0;overflow: hidden;text-align: left;background-color: #f0f8ff;}#sk-container-id-1 div.sk-toggleable__content pre {margin: 0.2em;color: black;border-radius: 0.25em;background-color: #f0f8ff;}#sk-container-id-1 input.sk-toggleable__control:checked~div.sk-toggleable__content {max-height: 200px;max-width: 100%;overflow: auto;}#sk-container-id-1 input.sk-toggleable__control:checked~label.sk-toggleable__label-arrow:before {content: \"▾\";}#sk-container-id-1 div.sk-estimator input.sk-toggleable__control:checked~label.sk-toggleable__label {background-color: #d4ebff;}#sk-container-id-1 div.sk-label input.sk-toggleable__control:checked~label.sk-toggleable__label {background-color: #d4ebff;}#sk-container-id-1 input.sk-hidden--visually {border: 0;clip: rect(1px 1px 1px 1px);clip: rect(1px, 1px, 1px, 1px);height: 1px;margin: -1px;overflow: hidden;padding: 0;position: absolute;width: 1px;}#sk-container-id-1 div.sk-estimator {font-family: monospace;background-color: #f0f8ff;border: 1px dotted black;border-radius: 0.25em;box-sizing: border-box;margin-bottom: 0.5em;}#sk-container-id-1 div.sk-estimator:hover {background-color: #d4ebff;}#sk-container-id-1 div.sk-parallel-item::after {content: \"\";width: 100%;border-bottom: 1px solid gray;flex-grow: 1;}#sk-container-id-1 div.sk-label:hover label.sk-toggleable__label {background-color: #d4ebff;}#sk-container-id-1 div.sk-serial::before {content: \"\";position: absolute;border-left: 1px solid gray;box-sizing: border-box;top: 0;bottom: 0;left: 50%;z-index: 0;}#sk-container-id-1 div.sk-serial {display: flex;flex-direction: column;align-items: center;background-color: white;padding-right: 0.2em;padding-left: 0.2em;position: relative;}#sk-container-id-1 div.sk-item {position: relative;z-index: 1;}#sk-container-id-1 div.sk-parallel {display: flex;align-items: stretch;justify-content: center;background-color: white;position: relative;}#sk-container-id-1 div.sk-item::before, #sk-container-id-1 div.sk-parallel-item::before {content: \"\";position: absolute;border-left: 1px solid gray;box-sizing: border-box;top: 0;bottom: 0;left: 50%;z-index: -1;}#sk-container-id-1 div.sk-parallel-item {display: flex;flex-direction: column;z-index: 1;position: relative;background-color: white;}#sk-container-id-1 div.sk-parallel-item:first-child::after {align-self: flex-end;width: 50%;}#sk-container-id-1 div.sk-parallel-item:last-child::after {align-self: flex-start;width: 50%;}#sk-container-id-1 div.sk-parallel-item:only-child::after {width: 0;}#sk-container-id-1 div.sk-dashed-wrapped {border: 1px dashed gray;margin: 0 0.4em 0.5em 0.4em;box-sizing: border-box;padding-bottom: 0.4em;background-color: white;}#sk-container-id-1 div.sk-label label {font-family: monospace;font-weight: bold;display: inline-block;line-height: 1.2em;}#sk-container-id-1 div.sk-label-container {text-align: center;}#sk-container-id-1 div.sk-container {/* jupyter's `normalize.less` sets `[hidden] { display: none; }` but bootstrap.min.css set `[hidden] { display: none !important; }` so we also need the `!important` here to be able to override the default hidden behavior on the sphinx rendered scikit-learn.org. See: https://github.com/scikit-learn/scikit-learn/issues/21755 */display: inline-block !important;position: relative;}#sk-container-id-1 div.sk-text-repr-fallback {display: none;}</style><div id=\"sk-container-id-1\" class=\"sk-top-container\"><div class=\"sk-text-repr-fallback\"><pre>SVC(C=45.36050048212422, degree=0, gamma=1.957236684465528, kernel=&#x27;linear&#x27;)</pre><b>In a Jupyter environment, please rerun this cell to show the HTML representation or trust the notebook. <br />On GitHub, the HTML representation is unable to render, please try loading this page with nbviewer.org.</b></div><div class=\"sk-container\" hidden><div class=\"sk-item\"><div class=\"sk-estimator sk-toggleable\"><input class=\"sk-toggleable__control sk-hidden--visually\" id=\"sk-estimator-id-1\" type=\"checkbox\" checked><label for=\"sk-estimator-id-1\" class=\"sk-toggleable__label sk-toggleable__label-arrow\">SVC</label><div class=\"sk-toggleable__content\"><pre>SVC(C=45.36050048212422, degree=0, gamma=1.957236684465528, kernel=&#x27;linear&#x27;)</pre></div></div></div></div></div>"
      ],
      "text/plain": [
       "SVC(C=45.36050048212422, degree=0, gamma=1.957236684465528, kernel='linear')"
      ]
     },
     "metadata": {},
     "output_type": "display_data"
    },
    {
     "name": "stdout",
     "output_type": "stream",
     "text": [
      "Accuracy: 0.947\n"
     ]
    }
   ],
   "source": [
    "model = SVC(**search.best_params_)\n",
    "model.fit(X_train, Y_train)\n",
    "display(model)\n",
    "\n",
    "accuracy = (model.predict(X_test) == Y_test).mean()\n",
    "print(f'Accuracy: {accuracy:.3f}')"
   ]
  },
  {
   "cell_type": "markdown",
   "id": "2f707059-9a8e-4870-8213-5884c78b5195",
   "metadata": {},
   "source": [
    "# Направленный поиск в Optuna"
   ]
  },
  {
   "cell_type": "code",
   "execution_count": 20,
   "id": "f0b86b22-ae25-4783-8e29-af7bb4049c34",
   "metadata": {
    "tags": []
   },
   "outputs": [],
   "source": [
    "import optuna   # установка в conda: conda install -c conda-forge optuna"
   ]
  },
  {
   "cell_type": "markdown",
   "id": "61c76cce-9eff-4030-a021-c54a448cce8a",
   "metadata": {},
   "source": [
    "Теперь подбор гиперпараметров будем осуществлять с помощью библиотеки optuna.\n",
    "\n",
    "Рассмотрим основные объекты:"
   ]
  },
  {
   "cell_type": "markdown",
   "id": "b25e43c6-e3c9-4ece-9931-a82c348907f8",
   "metadata": {},
   "source": [
    "Если нужно передавать дополнительные аргументы в `objective` - см. в [документации](https://optuna.readthedocs.io/en/stable/faq.html#objective-func-additional-args)."
   ]
  },
  {
   "cell_type": "code",
   "execution_count": 21,
   "id": "a347f0f1-6bd8-44fe-8fd0-97721612a1bf",
   "metadata": {
    "tags": []
   },
   "outputs": [],
   "source": [
    "# FYI: Objective functions can take additional arguments\n",
    "# ().\n",
    "def objective(trial):\n",
    "\n",
    "    kernel = trial.suggest_categorical(\"kernel\", [\"linear\", \"poly\", \"rbf\"])\n",
    "    \n",
    "    c = trial.suggest_float(\"C\", 1e-10, 1e4, log=True)\n",
    "    degree = 3\n",
    "    gamma = 'scale'\n",
    "    if kernel == \"poly\":\n",
    "        degree = trial.suggest_int(\"degree\", 0, 5)\n",
    "    if kernel == \"rbf\":\n",
    "        gamma = trial.suggest_float(\"gamma\", 0, 2)\n",
    "    \n",
    "    model = SVC(C=c, kernel=kernel, degree=degree, gamma=gamma)\n",
    "    \n",
    "    model.fit(X_train, Y_train)\n",
    "    accuracy = (model.predict(X_test) == Y_test).mean()\n",
    "\n",
    "    return accuracy"
   ]
  },
  {
   "cell_type": "markdown",
   "id": "078b112b-0320-45c3-89aa-048489470400",
   "metadata": {},
   "source": [
    "Функция objective фактически должна содержать в себе весь пайплайн построения, обучения и применения модели, и должна возвращать некоторое число - нашу метрику оценивания модели. \n",
    "В качестве метрики можно использовать любое число.\n",
    "\n",
    "Отличие objective от простого пайплайна модели в том, что эта функция принимает на вход аргумент trial, который можно использовать для получения **некоторых заранее неизвестных значений** гиперпараметров нашей модели из заранее определенного диапазона.\n",
    "\n",
    "С помощью функций trial.suggest_int, trial.suggest_float и других мы можем получить некоторое значение параметра, которое используем дальше в пайплайне построения модели."
   ]
  },
  {
   "cell_type": "code",
   "execution_count": 22,
   "id": "c53db5df-70eb-4514-866f-0f883f3a1ab5",
   "metadata": {
    "tags": []
   },
   "outputs": [
    {
     "name": "stderr",
     "output_type": "stream",
     "text": [
      "[I 2023-12-18 11:48:10,093] A new study created in memory with name: no-name-46a92068-68e4-467b-915d-3397d89af7b5\n"
     ]
    }
   ],
   "source": [
    "sampler = optuna.samplers.TPESampler(seed=0)  # Зафиксируем тип случайности для воспроизводимости. Необязательно в общем случае.\n",
    "study = optuna.create_study(sampler=sampler, direction=\"maximize\")"
   ]
  },
  {
   "cell_type": "markdown",
   "id": "30bab0f5-b654-4bfb-8f59-165b8b456be6",
   "metadata": {},
   "source": [
    "study - объект класса Study в библиотеке optuna -- определяет ход нашего \"исследования\".\n",
    "\n",
    "Параметры позволяют определить, в какую сторону нужно оптимизировать метрику нашего objective, какой sampler и pruner использовать.\n",
    "\n",
    "sampler - способ, которым будут выбираться параметры, получаемые с помощью trial.suggest_int и аналогичных функций. Базово используется байесовский TPESampler, подбирающий гиперпараметры по условным распределениям гиперпараметров. Также часто используются GridSampler - подбор параметров по сетке (декартово произведение задаваемых множеств параметров) - и RandomSampler - случайные значения параметров из заданных диапазонов.\n",
    "\n",
    "\"Исследование\" запускается с помощью метода optimize:"
   ]
  },
  {
   "cell_type": "code",
   "execution_count": 23,
   "id": "05f6ec08-804c-4feb-96ea-c815f8d2483b",
   "metadata": {
    "tags": []
   },
   "outputs": [
    {
     "name": "stderr",
     "output_type": "stream",
     "text": [
      "[I 2023-12-18 11:48:10,183] Trial 4 finished with value: 0.8421052631578947 and parameters: {'kernel': 'poly', 'C': 0.024026643899622033, 'degree': 1}. Best is trial 4 with value: 0.8421052631578947.\n",
      "[I 2023-12-18 11:48:10,185] Trial 0 finished with value: 0.6271929824561403 and parameters: {'kernel': 'rbf', 'C': 185.65305870070313, 'gamma': 1.3597956021621178}. Best is trial 4 with value: 0.8421052631578947.\n",
      "[I 2023-12-18 11:48:10,188] Trial 3 finished with value: 0.9342105263157895 and parameters: {'kernel': 'linear', 'C': 0.0003082417200598084}. Best is trial 3 with value: 0.9342105263157895.\n",
      "[I 2023-12-18 11:48:10,212] Trial 2 finished with value: 0.6271929824561403 and parameters: {'kernel': 'poly', 'C': 7.758645312446727e-07, 'degree': 3}. Best is trial 3 with value: 0.9342105263157895.\n",
      "[I 2023-12-18 11:48:10,219] Trial 6 finished with value: 0.6271929824561403 and parameters: {'kernel': 'poly', 'C': 2.3978944979632626e-09, 'degree': 1}. Best is trial 3 with value: 0.9342105263157895.\n",
      "[I 2023-12-18 11:48:10,234] Trial 5 finished with value: 0.6271929824561403 and parameters: {'kernel': 'rbf', 'C': 15.015242780927052, 'gamma': 0.16348835781565363}. Best is trial 3 with value: 0.9342105263157895.\n",
      "[I 2023-12-18 11:48:10,236] Trial 7 finished with value: 0.6271929824561403 and parameters: {'kernel': 'rbf', 'C': 0.0393034442791033, 'gamma': 1.6792449989997185}. Best is trial 3 with value: 0.9342105263157895.\n",
      "[I 2023-12-18 11:48:10,245] Trial 8 finished with value: 0.6271929824561403 and parameters: {'kernel': 'poly', 'C': 1.536537823981771e-07, 'degree': 1}. Best is trial 3 with value: 0.9342105263157895.\n",
      "[I 2023-12-18 11:48:10,281] Trial 9 finished with value: 0.9385964912280702 and parameters: {'kernel': 'linear', 'C': 0.00020189965988970886}. Best is trial 9 with value: 0.9385964912280702.\n",
      "[I 2023-12-18 11:48:10,296] Trial 10 finished with value: 0.6271929824561403 and parameters: {'kernel': 'rbf', 'C': 0.002608285421818499, 'gamma': 1.8408495716333741}. Best is trial 9 with value: 0.9385964912280702.\n",
      "[I 2023-12-18 11:48:10,338] Trial 12 finished with value: 0.6271929824561403 and parameters: {'kernel': 'rbf', 'C': 1.3487514604716722e-06, 'gamma': 1.5286334529977161}. Best is trial 9 with value: 0.9385964912280702.\n",
      "[I 2023-12-18 11:48:10,347] Trial 14 finished with value: 0.6271929824561403 and parameters: {'kernel': 'rbf', 'C': 0.2008010446272648, 'gamma': 0.5339498753875269}. Best is trial 9 with value: 0.9385964912280702.\n",
      "[I 2023-12-18 11:48:10,367] Trial 13 finished with value: 0.6271929824561403 and parameters: {'kernel': 'rbf', 'C': 39.65948099178612, 'gamma': 0.5480083403684506}. Best is trial 9 with value: 0.9385964912280702.\n",
      "[I 2023-12-18 11:48:10,419] Trial 16 finished with value: 0.9166666666666666 and parameters: {'kernel': 'linear', 'C': 3.56703399790148e-05}. Best is trial 9 with value: 0.9385964912280702.\n",
      "[I 2023-12-18 11:48:10,469] Trial 18 finished with value: 0.9342105263157895 and parameters: {'kernel': 'linear', 'C': 8.006412405604137e-05}. Best is trial 9 with value: 0.9385964912280702.\n",
      "[I 2023-12-18 11:48:10,481] Trial 17 finished with value: 0.9298245614035088 and parameters: {'kernel': 'linear', 'C': 6.276404344938733e-05}. Best is trial 9 with value: 0.9385964912280702.\n",
      "[I 2023-12-18 11:48:10,497] Trial 19 finished with value: 0.9342105263157895 and parameters: {'kernel': 'linear', 'C': 8.562559273431894e-05}. Best is trial 9 with value: 0.9385964912280702.\n",
      "[I 2023-12-18 11:48:10,530] Trial 20 finished with value: 0.9342105263157895 and parameters: {'kernel': 'linear', 'C': 0.0001948422701316822}. Best is trial 9 with value: 0.9385964912280702.\n",
      "[I 2023-12-18 11:48:10,566] Trial 21 finished with value: 0.9385964912280702 and parameters: {'kernel': 'linear', 'C': 0.00013628600890432387}. Best is trial 9 with value: 0.9385964912280702.\n",
      "[I 2023-12-18 11:48:10,601] Trial 26 finished with value: 0.6271929824561403 and parameters: {'kernel': 'linear', 'C': 2.791198978678899e-10}. Best is trial 9 with value: 0.9385964912280702.\n",
      "[I 2023-12-18 11:48:10,883] Trial 23 finished with value: 0.9473684210526315 and parameters: {'kernel': 'linear', 'C': 0.5695601163785154}. Best is trial 23 with value: 0.9473684210526315.\n",
      "[I 2023-12-18 11:48:11,039] Trial 27 finished with value: 0.9473684210526315 and parameters: {'kernel': 'linear', 'C': 0.536445686375341}. Best is trial 23 with value: 0.9473684210526315.\n",
      "[I 2023-12-18 11:48:11,302] Trial 28 finished with value: 0.9473684210526315 and parameters: {'kernel': 'linear', 'C': 0.8328180520923677}. Best is trial 23 with value: 0.9473684210526315.\n",
      "[I 2023-12-18 11:48:11,812] Trial 29 finished with value: 0.9517543859649122 and parameters: {'kernel': 'linear', 'C': 1.522362120911147}. Best is trial 29 with value: 0.9517543859649122.\n",
      "[I 2023-12-18 11:48:12,014] Trial 25 finished with value: 0.9517543859649122 and parameters: {'kernel': 'linear', 'C': 1.8873305186491616}. Best is trial 29 with value: 0.9517543859649122.\n",
      "[I 2023-12-18 11:48:12,105] Trial 24 finished with value: 0.9473684210526315 and parameters: {'kernel': 'linear', 'C': 1.1700187015706127}. Best is trial 29 with value: 0.9517543859649122.\n",
      "[I 2023-12-18 11:48:13,046] Trial 30 finished with value: 0.9517543859649122 and parameters: {'kernel': 'linear', 'C': 1.816809955875535}. Best is trial 29 with value: 0.9517543859649122.\n",
      "[I 2023-12-18 11:48:18,948] Trial 32 finished with value: 0.9517543859649122 and parameters: {'kernel': 'linear', 'C': 3.0415178323270124}. Best is trial 29 with value: 0.9517543859649122.\n",
      "[I 2023-12-18 11:48:19,173] Trial 1 finished with value: 0.9429824561403509 and parameters: {'kernel': 'linear', 'C': 14.263658721073497}. Best is trial 29 with value: 0.9517543859649122.\n",
      "[I 2023-12-18 11:48:25,733] Trial 22 finished with value: 0.9342105263157895 and parameters: {'kernel': 'linear', 'C': 5671.540067284461}. Best is trial 29 with value: 0.9517543859649122.\n",
      "[I 2023-12-18 11:48:25,797] Trial 37 finished with value: 0.9210526315789473 and parameters: {'kernel': 'poly', 'C': 357.4465574138694, 'degree': 5}. Best is trial 29 with value: 0.9517543859649122.\n",
      "[I 2023-12-18 11:48:25,861] Trial 15 finished with value: 0.9342105263157895 and parameters: {'kernel': 'linear', 'C': 5912.671505739037}. Best is trial 29 with value: 0.9517543859649122.\n",
      "[I 2023-12-18 11:48:25,905] Trial 11 finished with value: 0.9342105263157895 and parameters: {'kernel': 'linear', 'C': 6551.339503400354}. Best is trial 29 with value: 0.9517543859649122.\n",
      "[I 2023-12-18 11:48:27,726] Trial 31 finished with value: 0.9342105263157895 and parameters: {'kernel': 'linear', 'C': 4336.230061992016}. Best is trial 29 with value: 0.9517543859649122.\n",
      "[I 2023-12-18 11:48:28,030] Trial 33 finished with value: 0.9342105263157895 and parameters: {'kernel': 'linear', 'C': 4017.178429428082}. Best is trial 29 with value: 0.9517543859649122.\n",
      "[I 2023-12-18 11:48:28,246] Trial 38 finished with value: 0.9473684210526315 and parameters: {'kernel': 'linear', 'C': 3.5063429688806016}. Best is trial 29 with value: 0.9517543859649122.\n",
      "[I 2023-12-18 11:48:28,745] Trial 39 finished with value: 0.9473684210526315 and parameters: {'kernel': 'linear', 'C': 3.345736657355588}. Best is trial 29 with value: 0.9517543859649122.\n",
      "[I 2023-12-18 11:48:28,898] Trial 34 finished with value: 0.9342105263157895 and parameters: {'kernel': 'linear', 'C': 5045.457922898869}. Best is trial 29 with value: 0.9517543859649122.\n",
      "[I 2023-12-18 11:48:29,482] Trial 35 finished with value: 0.9342105263157895 and parameters: {'kernel': 'linear', 'C': 205.05245078540838}. Best is trial 29 with value: 0.9517543859649122.\n",
      "[I 2023-12-18 11:48:30,195] Trial 36 finished with value: 0.9342105263157895 and parameters: {'kernel': 'linear', 'C': 2436.4065315635294}. Best is trial 29 with value: 0.9517543859649122.\n"
     ]
    },
    {
     "name": "stdout",
     "output_type": "stream",
     "text": [
      "CPU times: user 2min 20s, sys: 91.6 ms, total: 2min 20s\n",
      "Wall time: 20.1 s\n",
      "FrozenTrial(number=29, state=TrialState.COMPLETE, values=[0.9517543859649122], datetime_start=datetime.datetime(2023, 12, 18, 11, 48, 11, 40684), datetime_complete=datetime.datetime(2023, 12, 18, 11, 48, 11, 811843), params={'kernel': 'linear', 'C': 1.522362120911147}, user_attrs={}, system_attrs={}, intermediate_values={}, distributions={'kernel': CategoricalDistribution(choices=('linear', 'poly', 'rbf')), 'C': FloatDistribution(high=10000.0, log=True, low=1e-10, step=None)}, trial_id=29, value=None)\n"
     ]
    }
   ],
   "source": [
    "%time study.optimize(objective, n_trials=N_TRIALS, n_jobs=-1) # n_jobs=-1 чтобы использовать все ядра\n",
    "print(study.best_trial)"
   ]
  },
  {
   "cell_type": "markdown",
   "id": "3458fa0b-035d-47db-a943-70ea2e3a8938",
   "metadata": {},
   "source": [
    "Проверим инициализацию лучшими параметрами:"
   ]
  },
  {
   "cell_type": "code",
   "execution_count": 24,
   "id": "55929567-2daa-4a7b-9914-68801ed5f099",
   "metadata": {
    "tags": []
   },
   "outputs": [
    {
     "data": {
      "text/html": [
       "<style>#sk-container-id-2 {color: black;background-color: white;}#sk-container-id-2 pre{padding: 0;}#sk-container-id-2 div.sk-toggleable {background-color: white;}#sk-container-id-2 label.sk-toggleable__label {cursor: pointer;display: block;width: 100%;margin-bottom: 0;padding: 0.3em;box-sizing: border-box;text-align: center;}#sk-container-id-2 label.sk-toggleable__label-arrow:before {content: \"▸\";float: left;margin-right: 0.25em;color: #696969;}#sk-container-id-2 label.sk-toggleable__label-arrow:hover:before {color: black;}#sk-container-id-2 div.sk-estimator:hover label.sk-toggleable__label-arrow:before {color: black;}#sk-container-id-2 div.sk-toggleable__content {max-height: 0;max-width: 0;overflow: hidden;text-align: left;background-color: #f0f8ff;}#sk-container-id-2 div.sk-toggleable__content pre {margin: 0.2em;color: black;border-radius: 0.25em;background-color: #f0f8ff;}#sk-container-id-2 input.sk-toggleable__control:checked~div.sk-toggleable__content {max-height: 200px;max-width: 100%;overflow: auto;}#sk-container-id-2 input.sk-toggleable__control:checked~label.sk-toggleable__label-arrow:before {content: \"▾\";}#sk-container-id-2 div.sk-estimator input.sk-toggleable__control:checked~label.sk-toggleable__label {background-color: #d4ebff;}#sk-container-id-2 div.sk-label input.sk-toggleable__control:checked~label.sk-toggleable__label {background-color: #d4ebff;}#sk-container-id-2 input.sk-hidden--visually {border: 0;clip: rect(1px 1px 1px 1px);clip: rect(1px, 1px, 1px, 1px);height: 1px;margin: -1px;overflow: hidden;padding: 0;position: absolute;width: 1px;}#sk-container-id-2 div.sk-estimator {font-family: monospace;background-color: #f0f8ff;border: 1px dotted black;border-radius: 0.25em;box-sizing: border-box;margin-bottom: 0.5em;}#sk-container-id-2 div.sk-estimator:hover {background-color: #d4ebff;}#sk-container-id-2 div.sk-parallel-item::after {content: \"\";width: 100%;border-bottom: 1px solid gray;flex-grow: 1;}#sk-container-id-2 div.sk-label:hover label.sk-toggleable__label {background-color: #d4ebff;}#sk-container-id-2 div.sk-serial::before {content: \"\";position: absolute;border-left: 1px solid gray;box-sizing: border-box;top: 0;bottom: 0;left: 50%;z-index: 0;}#sk-container-id-2 div.sk-serial {display: flex;flex-direction: column;align-items: center;background-color: white;padding-right: 0.2em;padding-left: 0.2em;position: relative;}#sk-container-id-2 div.sk-item {position: relative;z-index: 1;}#sk-container-id-2 div.sk-parallel {display: flex;align-items: stretch;justify-content: center;background-color: white;position: relative;}#sk-container-id-2 div.sk-item::before, #sk-container-id-2 div.sk-parallel-item::before {content: \"\";position: absolute;border-left: 1px solid gray;box-sizing: border-box;top: 0;bottom: 0;left: 50%;z-index: -1;}#sk-container-id-2 div.sk-parallel-item {display: flex;flex-direction: column;z-index: 1;position: relative;background-color: white;}#sk-container-id-2 div.sk-parallel-item:first-child::after {align-self: flex-end;width: 50%;}#sk-container-id-2 div.sk-parallel-item:last-child::after {align-self: flex-start;width: 50%;}#sk-container-id-2 div.sk-parallel-item:only-child::after {width: 0;}#sk-container-id-2 div.sk-dashed-wrapped {border: 1px dashed gray;margin: 0 0.4em 0.5em 0.4em;box-sizing: border-box;padding-bottom: 0.4em;background-color: white;}#sk-container-id-2 div.sk-label label {font-family: monospace;font-weight: bold;display: inline-block;line-height: 1.2em;}#sk-container-id-2 div.sk-label-container {text-align: center;}#sk-container-id-2 div.sk-container {/* jupyter's `normalize.less` sets `[hidden] { display: none; }` but bootstrap.min.css set `[hidden] { display: none !important; }` so we also need the `!important` here to be able to override the default hidden behavior on the sphinx rendered scikit-learn.org. See: https://github.com/scikit-learn/scikit-learn/issues/21755 */display: inline-block !important;position: relative;}#sk-container-id-2 div.sk-text-repr-fallback {display: none;}</style><div id=\"sk-container-id-2\" class=\"sk-top-container\"><div class=\"sk-text-repr-fallback\"><pre>SVC(C=1.522362120911147, kernel=&#x27;linear&#x27;)</pre><b>In a Jupyter environment, please rerun this cell to show the HTML representation or trust the notebook. <br />On GitHub, the HTML representation is unable to render, please try loading this page with nbviewer.org.</b></div><div class=\"sk-container\" hidden><div class=\"sk-item\"><div class=\"sk-estimator sk-toggleable\"><input class=\"sk-toggleable__control sk-hidden--visually\" id=\"sk-estimator-id-2\" type=\"checkbox\" checked><label for=\"sk-estimator-id-2\" class=\"sk-toggleable__label sk-toggleable__label-arrow\">SVC</label><div class=\"sk-toggleable__content\"><pre>SVC(C=1.522362120911147, kernel=&#x27;linear&#x27;)</pre></div></div></div></div></div>"
      ],
      "text/plain": [
       "SVC(C=1.522362120911147, kernel='linear')"
      ]
     },
     "metadata": {},
     "output_type": "display_data"
    },
    {
     "name": "stdout",
     "output_type": "stream",
     "text": [
      "Accuracy: 0.952\n"
     ]
    }
   ],
   "source": [
    "model = SVC(**study.best_params)\n",
    "model.fit(X_train, Y_train)\n",
    "display(model)\n",
    "accuracy = (model.predict(X_test) == Y_test).mean()\n",
    "print(f'Accuracy: {accuracy:.3f}')"
   ]
  },
  {
   "cell_type": "markdown",
   "id": "c1f00a58-c667-45de-93ae-3f2aa8b28a71",
   "metadata": {
    "tags": []
   },
   "source": [
    "Видим, что времени на поиск затрачено меньше (`Wall time`), а результирующая точность (`Accuracy`) - выше."
   ]
  },
  {
   "cell_type": "code",
   "execution_count": null,
   "id": "aaba3f99-ad67-44e8-8047-1262bcefb368",
   "metadata": {},
   "outputs": [],
   "source": []
  }
 ],
 "metadata": {
  "kernelspec": {
   "display_name": "Python 3 (ipykernel)",
   "language": "python",
   "name": "python3"
  },
  "language_info": {
   "codemirror_mode": {
    "name": "ipython",
    "version": 3
   },
   "file_extension": ".py",
   "mimetype": "text/x-python",
   "name": "python",
   "nbconvert_exporter": "python",
   "pygments_lexer": "ipython3",
   "version": "3.10.13"
  },
  "widgets": {
   "application/vnd.jupyter.widget-state+json": {
    "state": {},
    "version_major": 2,
    "version_minor": 0
   }
  }
 },
 "nbformat": 4,
 "nbformat_minor": 5
}
